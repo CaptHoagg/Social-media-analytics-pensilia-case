{
 "cells": [
  {
   "cell_type": "code",
   "execution_count": 1,
   "metadata": {},
   "outputs": [],
   "source": [
    "import pandas as pd "
   ]
  },
  {
   "cell_type": "code",
   "execution_count": 26,
   "metadata": {},
   "outputs": [],
   "source": [
    "topic_mapping = {\n",
    "    \"healthcare\": [\"bệnh_viện\", \"bác_sĩ\", \"phòng_khám\", \"bệnh_lý\", \"thuốc\", \"điều_trị\", \"mụn_viêm\", \"nám\", \"bs\", \"thẩm_mỹ_viện\"],\n",
    "    \"customer_service\": [\"cskh\", \"nhân_viên\", \"dịch_vụ\", \"trải_nghiệm\", \"khách_hàng\", \"điều_dưỡng\", \"nv\", \"tư_vấn\", \"service_tệ\"],\n",
    "    \"beauty_treatment\": [\"spa\", \"mụn\", \"sẹo\", \"da\", \"trị_nám\", \"meso\", \"thâm\", \"lăn_kim\", \"thẩm_mỹ\", \"liệu_trình\"],\n",
    "    \"marketing\": [\"quảng_cáo\", \"chào_mời\", \"quà\"],\n",
    "    \"management_and_operations\": [\"quản_lý\", \"khai_trương\", \"kinh_nghiệm\", \"chuyên_môn\", \"tay_nghề\"],\n",
    "    \"product_and_quality\": [\"chất_lượng\", \"sản_phẩm\", \"kết_quả\", \"hiệu_quả\", \"fda\", \"công_nghệ\"],\n",
    "    \"customer_interaction\": [\"gọi\", \"thái_độ\", \"thật_sự\"],\n",
    "    \"personal_care\": [\"giảm_cân\", \"xinh_gái\", \"mũi\", 'trách_nhiệm'],\n",
    "    \"pricing\": [\"chi_phí\", \"giá_cả\", \"giá\"],\n",
    "    \"personal_experience\": [\"vấn_đề\", \"lỗi\", \"nhu_cầu\", \"mình\", \"lừa_đảo\"]\n",
    "}\n"
   ]
  },
  {
   "cell_type": "code",
   "execution_count": 27,
   "metadata": {},
   "outputs": [],
   "source": [
    "df = pd.read_csv(\"Dataset/data_for_bi.tsv\", sep ='\\t')"
   ]
  },
  {
   "cell_type": "code",
   "execution_count": 28,
   "metadata": {},
   "outputs": [
    {
     "data": {
      "text/html": [
       "<div>\n",
       "<style scoped>\n",
       "    .dataframe tbody tr th:only-of-type {\n",
       "        vertical-align: middle;\n",
       "    }\n",
       "\n",
       "    .dataframe tbody tr th {\n",
       "        vertical-align: top;\n",
       "    }\n",
       "\n",
       "    .dataframe thead th {\n",
       "        text-align: right;\n",
       "    }\n",
       "</style>\n",
       "<table border=\"1\" class=\"dataframe\">\n",
       "  <thead>\n",
       "    <tr style=\"text-align: right;\">\n",
       "      <th></th>\n",
       "      <th>Unnamed: 0</th>\n",
       "      <th>id</th>\n",
       "      <th>aspect_words</th>\n",
       "      <th>keywords</th>\n",
       "      <th>calculated_alga</th>\n",
       "      <th>aspect_id</th>\n",
       "      <th>keyword_id</th>\n",
       "      <th>aspects</th>\n",
       "    </tr>\n",
       "  </thead>\n",
       "  <tbody>\n",
       "    <tr>\n",
       "      <th>0</th>\n",
       "      <td>0</td>\n",
       "      <td>0</td>\n",
       "      <td>dịch_vụ</td>\n",
       "      <td>dịch_vụ</td>\n",
       "      <td>-1.134846</td>\n",
       "      <td>0</td>\n",
       "      <td>0</td>\n",
       "      <td>customer_service</td>\n",
       "    </tr>\n",
       "    <tr>\n",
       "      <th>1</th>\n",
       "      <td>1</td>\n",
       "      <td>0</td>\n",
       "      <td>dịch_vụ</td>\n",
       "      <td>thất_vọng</td>\n",
       "      <td>-1.134846</td>\n",
       "      <td>0</td>\n",
       "      <td>1</td>\n",
       "      <td>customer_service</td>\n",
       "    </tr>\n",
       "    <tr>\n",
       "      <th>2</th>\n",
       "      <td>2</td>\n",
       "      <td>0</td>\n",
       "      <td>dịch_vụ</td>\n",
       "      <td>tiền</td>\n",
       "      <td>-1.134846</td>\n",
       "      <td>0</td>\n",
       "      <td>2</td>\n",
       "      <td>customer_service</td>\n",
       "    </tr>\n",
       "    <tr>\n",
       "      <th>3</th>\n",
       "      <td>3</td>\n",
       "      <td>0</td>\n",
       "      <td>không</td>\n",
       "      <td>thất_vọng</td>\n",
       "      <td>-4.183370</td>\n",
       "      <td>1</td>\n",
       "      <td>3</td>\n",
       "      <td>unknown</td>\n",
       "    </tr>\n",
       "    <tr>\n",
       "      <th>4</th>\n",
       "      <td>4</td>\n",
       "      <td>0</td>\n",
       "      <td>không</td>\n",
       "      <td>tiền</td>\n",
       "      <td>-4.183370</td>\n",
       "      <td>1</td>\n",
       "      <td>4</td>\n",
       "      <td>unknown</td>\n",
       "    </tr>\n",
       "  </tbody>\n",
       "</table>\n",
       "</div>"
      ],
      "text/plain": [
       "   Unnamed: 0  id aspect_words   keywords  calculated_alga  aspect_id  \\\n",
       "0           0   0      dịch_vụ    dịch_vụ        -1.134846          0   \n",
       "1           1   0      dịch_vụ  thất_vọng        -1.134846          0   \n",
       "2           2   0      dịch_vụ       tiền        -1.134846          0   \n",
       "3           3   0        không  thất_vọng        -4.183370          1   \n",
       "4           4   0        không       tiền        -4.183370          1   \n",
       "\n",
       "   keyword_id           aspects  \n",
       "0           0  customer_service  \n",
       "1           1  customer_service  \n",
       "2           2  customer_service  \n",
       "3           3           unknown  \n",
       "4           4           unknown  "
      ]
     },
     "execution_count": 28,
     "metadata": {},
     "output_type": "execute_result"
    }
   ],
   "source": [
    "df.head()"
   ]
  },
  {
   "cell_type": "code",
   "execution_count": 29,
   "metadata": {},
   "outputs": [
    {
     "name": "stdout",
     "output_type": "stream",
     "text": [
      "      Unnamed: 0    id aspect_words     keywords  calculated_alga  aspect_id  \\\n",
      "0              0     0      dịch_vụ      dịch_vụ        -1.134846          0   \n",
      "1              1     0      dịch_vụ    thất_vọng        -1.134846          0   \n",
      "2              2     0      dịch_vụ         tiền        -1.134846          0   \n",
      "3              3     0        không    thất_vọng        -4.183370          1   \n",
      "4              4     0        không         tiền        -4.183370          1   \n",
      "...          ...   ...          ...          ...              ...        ...   \n",
      "9865        9865  1413         thảo           bs         1.935210       2071   \n",
      "9866        9866  1413         thảo         thảo         1.935210       2071   \n",
      "9867        9867  1413         thảo  thiết_trình         1.935210       2071   \n",
      "9868        9868  1417       bác_sĩ       bác_sĩ         1.732507       2072   \n",
      "9869        9869  1417       bác_sĩ    dễ_thương         1.732507       2072   \n",
      "\n",
      "      keyword_id           aspects  \n",
      "0              0  customer_service  \n",
      "1              1  customer_service  \n",
      "2              2  customer_service  \n",
      "3              3           unknown  \n",
      "4              4           unknown  \n",
      "...          ...               ...  \n",
      "9865        9865           unknown  \n",
      "9866        9866           unknown  \n",
      "9867        9867           unknown  \n",
      "9868        9868        healthcare  \n",
      "9869        9869        healthcare  \n",
      "\n",
      "[9870 rows x 8 columns]\n"
     ]
    }
   ],
   "source": [
    "def find_topic(aspect):\n",
    "    for topic, words in topic_mapping.items():\n",
    "        if aspect in words:\n",
    "            return topic\n",
    "    return \"unknown\"  # return unknown if no topic is found\n",
    "\n",
    "# Apply function to create the new column\n",
    "df['aspects'] = df['aspect_words'].apply(find_topic)\n",
    "\n",
    "print(df)"
   ]
  },
  {
   "cell_type": "code",
   "execution_count": 30,
   "metadata": {},
   "outputs": [],
   "source": [
    "df.to_csv(\"Dataset/data_for_bi.tsv\", sep ='\\t', index=False)"
   ]
  },
  {
   "cell_type": "code",
   "execution_count": null,
   "metadata": {},
   "outputs": [],
   "source": []
  }
 ],
 "metadata": {
  "kernelspec": {
   "display_name": "Python 3",
   "language": "python",
   "name": "python3"
  },
  "language_info": {
   "codemirror_mode": {
    "name": "ipython",
    "version": 3
   },
   "file_extension": ".py",
   "mimetype": "text/x-python",
   "name": "python",
   "nbconvert_exporter": "python",
   "pygments_lexer": "ipython3",
   "version": "3.10.0"
  }
 },
 "nbformat": 4,
 "nbformat_minor": 2
}
